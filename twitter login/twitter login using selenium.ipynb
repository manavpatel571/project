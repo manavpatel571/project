{
 "cells": [
  {
   "cell_type": "code",
   "execution_count": 6,
   "id": "41437603",
   "metadata": {},
   "outputs": [
    {
     "name": "stderr",
     "output_type": "stream",
     "text": [
      "C:\\Users\\Manav Patel\\AppData\\Local\\Temp\\ipykernel_11208\\3891741728.py:7: DeprecationWarning: executable_path has been deprecated, please pass in a Service object\n",
      "  driver = webdriver.Firefox(executable_path=path)\n"
     ]
    }
   ],
   "source": [
    "from selenium import webdriver\n",
    "import time\n",
    "import os\n",
    "\n",
    "web = \"https://twitter.com/i/flow/login\"\n",
    "path = \"F:/software/selenium/geckodriver.exe\"\n",
    "driver = webdriver.Firefox(executable_path=path)\n",
    "\n",
    "driver.get(web)\n",
    "driver.maximize_window()\n",
    "\n",
    "time.sleep(6) \n",
    "\n",
    "username = driver.find_element(by=\"xpath\",value='//input[@autocomplete =\"username\"]')\n",
    "username.send_keys(\"write your username\")  \n",
    "\n",
    "# Clicking \"Next\" button\n",
    "next_button = driver.find_element(by=\"xpath\",value='//div[@role=\"button\"]//span[text()=\"Next\"]')\n",
    "next_button.click()\n",
    "\n",
    "time.sleep(2)\n",
    "\n",
    "# password\n",
    "password = driver.find_element(by=\"xpath\",value='//input[@autocomplete =\"current-password\"]')\n",
    "password.send_keys(\"write your password\")  \n",
    "\n",
    "\n",
    "login_button = driver.find_element(by=\"xpath\",value='//div[@role=\"button\"]//span[text()=\"Log in\"]')\n",
    "login_button.click()\n",
    "\n",
    "\n",
    "driver.quit()\n"
   ]
  },
  {
   "cell_type": "code",
   "execution_count": null,
   "id": "2cea1098",
   "metadata": {},
   "outputs": [],
   "source": []
  }
 ],
 "metadata": {
  "kernelspec": {
   "display_name": "Python 3 (ipykernel)",
   "language": "python",
   "name": "python3"
  },
  "language_info": {
   "codemirror_mode": {
    "name": "ipython",
    "version": 3
   },
   "file_extension": ".py",
   "mimetype": "text/x-python",
   "name": "python",
   "nbconvert_exporter": "python",
   "pygments_lexer": "ipython3",
   "version": "3.9.13"
  },
  "varInspector": {
   "cols": {
    "lenName": 16,
    "lenType": 16,
    "lenVar": 40
   },
   "kernels_config": {
    "python": {
     "delete_cmd_postfix": "",
     "delete_cmd_prefix": "del ",
     "library": "var_list.py",
     "varRefreshCmd": "print(var_dic_list())"
    },
    "r": {
     "delete_cmd_postfix": ") ",
     "delete_cmd_prefix": "rm(",
     "library": "var_list.r",
     "varRefreshCmd": "cat(var_dic_list()) "
    }
   },
   "types_to_exclude": [
    "module",
    "function",
    "builtin_function_or_method",
    "instance",
    "_Feature"
   ],
   "window_display": false
  }
 },
 "nbformat": 4,
 "nbformat_minor": 5
}
